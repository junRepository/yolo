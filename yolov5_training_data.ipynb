{
 "cells": [
  {
   "cell_type": "code",
   "execution_count": 231,
   "id": "91dfa5c7",
   "metadata": {},
   "outputs": [],
   "source": [
    "import cv2\n",
    "import matplotlib.pyplot as plt\n",
    "import json\n",
    "import os\n",
    "import tqdm\n",
    "import urllib\n",
    "import shutil\n",
    "import numpy as np\n",
    "from pathlib import Path\n",
    "from PIL import Image,ImageFont,ImageDraw\n",
    "from googletrans import Translator"
   ]
  },
  {
   "cell_type": "code",
   "execution_count": 232,
   "id": "b063d6f5",
   "metadata": {},
   "outputs": [],
   "source": [
    "categories = [\"집전체\",\n",
    "\"지붕\",\n",
    "\"집벽\",\n",
    "\"문\",\n",
    "\"창문\",\n",
    "\"굴뚝\",\n",
    "\"연기\", #보류\n",
    "\"울타리\",\n",
    "\"길\",\n",
    "\"연못\",\n",
    "\"산\",\n",
    "\"나무\",\n",
    "\"꽃\",\n",
    "\"잔디\",\n",
    "\"태양\",\n",
    "\"나무전체\",\n",
    "\"기둥\",\n",
    "\"수관\",\n",
    "\"가지\",\n",
    "\"뿌리\",\n",
    "\"나뭇잎\",\n",
    "\"꽃\",\n",
    "\"열매\",\n",
    "\"그네\",\n",
    "\"새\",\n",
    "\"다람쥐\",\n",
    "\"구름\",\n",
    "\"달\",\n",
    "\"별\",\n",
    "\"사람전체\",\n",
    "\"머리\",\n",
    "\"얼굴\",\n",
    "\"눈\",\n",
    "\"코\",\n",
    "\"입\",\n",
    "\"귀\",\n",
    "\"머리카락\",\n",
    "\"목\",\n",
    "\"상체\",\n",
    "\"팔\",\n",
    "\"손\",\n",
    "\"다리\",\n",
    "\"발\",\n",
    "\"단추\",\n",
    "\"주머니\",\n",
    "\"운동화\",\n",
    "\"여자구두\",\n",
    "\"남자구두\"\n",
    "]"
   ]
  },
  {
   "cell_type": "code",
   "execution_count": 233,
   "id": "ad81fd6e",
   "metadata": {},
   "outputs": [],
   "source": [
    "def file_copy_rename():\n",
    "    ####이미지 복사를 하고 이름을 바꾸기\n",
    "    old_name.append(json_object['annotations'])\n",
    "    new_name.append(json_object['annotations'])\n",
    "\n",
    "    #기존 파일명\n",
    "    old_name[index]['img_path'] = json_object['meta']['img_path'].replace(\n",
    "        '../../../../images/'+i+str(j)+'/','')\n",
    "\n",
    "    #새로운 파일명\n",
    "    new_name[index]['anno_id'] = json_object['annotations']['anno_id']\n",
    "\n",
    "\n",
    "    file_oldname = os.path.join(images_dir+i+str(j)+'/', old_name[index]['img_path'])\n",
    "    file_newname = os.path.join(images_dir+i+str(j)+'/', new_name[index]['anno_id']+'.jpg')\n",
    "    #파일 위치 변경 후 \n",
    "    shutil.copyfile(file_oldname, move_to+old_name[index]['img_path'])                \n",
    "    #이름 변경\n",
    "    os.rename(move_to+old_name[index]['img_path'], move_to+new_name[index]['anno_id']+'.jpg')\n",
    "    \n",
    "def categories_text(index, temp,make_txt_dir):\n",
    "    for n in range(temp[index]['bbox_count']):\n",
    "        label = temp[index]['bbox'][n]['label']\n",
    "        cate_num = categories.index(label)\n",
    "        x = temp[index]['bbox'][n]['x']\n",
    "        y = temp[index]['bbox'][n]['y']\n",
    "        w = temp[index]['bbox'][n]['w']\n",
    "        h = temp[index]['bbox'][n]['h']\n",
    "        txt_name = temp[index]['anno_id']\n",
    "        \n",
    "        w_img = 1280\n",
    "        h_img = 1280\n",
    "        xcenter = (x + w/2) / w_img\n",
    "        ycenter = (y + h/2) / h_img\n",
    "        w = w / w_img\n",
    "        h = h / h_img \n",
    "        f = open(make_txt_dir+txt_name+'.txt','a')\n",
    "        f.write(f\"{cate_num} {xcenter} {ycenter} {w} {h} \\n\")\n",
    "        f.close()"
   ]
  },
  {
   "cell_type": "code",
   "execution_count": 234,
   "id": "b8237fc0",
   "metadata": {
    "scrolled": true
   },
   "outputs": [],
   "source": [
    "path_dir = \"D:/study/hackathon/goyang_datathon/[data]2022_Datathon_drawingdata/dataset/train/labels/\"\n",
    "images_dir = 'D:/study/hackathon/goyang_datathon/[data]2022_Datathon_drawingdata/dataset/train/images/'\n",
    "move_to = 'D:/study/hackathon/goyang_datathon/[data]2022_Datathon_drawingdata/dataset/trainset/images/'\n",
    "make_txt_dir = 'D:/study/hackathon/goyang_datathon/[data]2022_Datathon_drawingdata/dataset/trainset/labels/'\n",
    "label = []\n",
    "\n",
    "\n",
    "for i in ['나무/','남자사람/', '여자사람/','집/']:\n",
    "    for j in range(7,14):\n",
    "        temp = []\n",
    "        old_name = []\n",
    "        new_name = []\n",
    "        file_tree = os.listdir(path_dir+i+str(j))\n",
    "        for index,dir in enumerate(file_tree):\n",
    "            with open(path_dir+i+str(j)+'/' + dir,'r', encoding=\"UTF-8\") as f:\n",
    "                json_object = json.load(f)\n",
    "                temp.append(json_object['annotations'])\n",
    "                temp[index]['img_path'] = json_object['meta']['img_path']\n",
    "                temp[index]['img_path'] = temp[index]['img_path'].replace(\n",
    "                    '../../../../','D:/study/hackathon/goyang_datathon/[data]2022_Datathon_drawingdata/dataset/train/')\n",
    "                file_copy_rename()\n",
    "                categories_text(index, temp, make_txt_dir)"
   ]
  },
  {
   "cell_type": "code",
   "execution_count": 239,
   "id": "b84d6ba7",
   "metadata": {
    "scrolled": false
   },
   "outputs": [
    {
     "name": "stdout",
     "output_type": "stream",
     "text": [
      "0.3125 0.2734375 0.234375 0.3125\n"
     ]
    }
   ],
   "source": [
    "x = 250\n",
    "y = 150\n",
    "w = 300\n",
    "h = 400\n",
    "w_img = 1280\n",
    "h_img = 1280\n",
    "xcenter = (x + w/2) / w_img\n",
    "ycenter = (y + h/2) / h_img\n",
    "w = w / w_img\n",
    "h = h / h_img \n",
    "print(xcenter,ycenter,w,h)"
   ]
  }
 ],
 "metadata": {
  "kernelspec": {
   "display_name": "[main]",
   "language": "python",
   "name": "main"
  },
  "language_info": {
   "codemirror_mode": {
    "name": "ipython",
    "version": 3
   },
   "file_extension": ".py",
   "mimetype": "text/x-python",
   "name": "python",
   "nbconvert_exporter": "python",
   "pygments_lexer": "ipython3",
   "version": "3.8.13"
  }
 },
 "nbformat": 4,
 "nbformat_minor": 5
}
